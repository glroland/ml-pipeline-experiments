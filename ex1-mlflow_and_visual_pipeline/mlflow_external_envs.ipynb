{
 "cells": [
  {
   "cell_type": "markdown",
   "metadata": {},
   "source": [
    "# MLFlow-based Experiment"
   ]
  },
  {
   "cell_type": "code",
   "execution_count": null,
   "metadata": {},
   "outputs": [],
   "source": [
    "!pip install mlflow boto3"
   ]
  },
  {
   "cell_type": "code",
   "execution_count": null,
   "metadata": {
    "tags": []
   },
   "outputs": [],
   "source": [
    "import os\n",
    "import mlflow"
   ]
  },
  {
   "cell_type": "code",
   "execution_count": null,
   "metadata": {},
   "outputs": [],
   "source": [
    "# environment from pipeline os.environ['AWS_ACCESS_KEY_ID'] = 'access_key_goes_here'\n",
    "# environment from pipeline os.environ['AWS_SECRET_ACCESS_KEY'] = 'secret_key_goes_here'\n",
    "# environment from pipeline os.environ['AWS_DEFAULT_REGION'] = 'lab'\n",
    "# environment from pipeline os.environ['MLFLOW_S3_ENDPOINT_URL'] = 'https://eclipse.home.glroland.com:9000'\n",
    "# environment from pipeline os.environ['MLFLOW_S3_IGNORE_TLS'] = 'true'\n",
    "\n",
    "print(os.environ)"
   ]
  },
  {
   "cell_type": "code",
   "execution_count": null,
   "metadata": {},
   "outputs": [],
   "source": [
    "mlflow.set_tracking_uri(uri=\"http://mlflow.home.glroland.com:8080\")"
   ]
  },
  {
   "cell_type": "code",
   "execution_count": null,
   "metadata": {},
   "outputs": [],
   "source": [
    "experiment_name = \"ex1_experiment\"\n",
    "if mlflow.get_experiment_by_name(experiment_name) is None:\n",
    "    print (\"Creating new experiment: \" + experiment_name)\n",
    "    mlflow.create_experiment(experiment_name, artifact_location='s3://mlflow')\n",
    "else:\n",
    "    print (\"Experiment already exists: \" + experiment_name)\n",
    "mlflow.set_experiment(experiment_name)"
   ]
  },
  {
   "cell_type": "code",
   "execution_count": null,
   "metadata": {},
   "outputs": [],
   "source": [
    "mlflow.start_run()"
   ]
  },
  {
   "cell_type": "code",
   "execution_count": null,
   "metadata": {},
   "outputs": [],
   "source": [
    "print(f\"AWS Access Key ID: {['AWS_ACCESS_KEY_ID']}\")\n",
    "print(f\"AWS Secret Access Key: {['AWS_SECRET_ACCESS_KEY']}\")"
   ]
  },
  {
   "cell_type": "code",
   "execution_count": null,
   "metadata": {
    "tags": []
   },
   "outputs": [],
   "source": [
    "# Log a parameter (key-value pair)\n",
    "mlflow.log_param(\"hello\", \"world\")\n",
    "\n",
    "# Log a metric; metrics can be updated throughout the run\n",
    "mlflow.log_metric(\"foo\", 1)\n",
    "mlflow.log_metric(\"foo\", 2)\n",
    "mlflow.log_metric(\"foo\", 3)\n",
    "\n",
    "# Log an artifact (output file)\n",
    "output_filename = \"/tmp/output.txt\"\n",
    "with open(output_filename, \"w\") as f:\n",
    "    f.write(\"Hello world!\")\n",
    "mlflow.log_artifact(output_filename)"
   ]
  },
  {
   "cell_type": "code",
   "execution_count": null,
   "metadata": {},
   "outputs": [],
   "source": [
    "mlflow.end_run()"
   ]
  },
  {
   "cell_type": "code",
   "execution_count": null,
   "metadata": {},
   "outputs": [],
   "source": []
  }
 ],
 "metadata": {
  "kernelspec": {
   "display_name": "Python 3.11",
   "language": "python",
   "name": "python3"
  },
  "language_info": {
   "codemirror_mode": {
    "name": "ipython",
    "version": 3
   },
   "file_extension": ".py",
   "mimetype": "text/x-python",
   "name": "python",
   "nbconvert_exporter": "python",
   "pygments_lexer": "ipython3",
   "version": "3.11.7"
  }
 },
 "nbformat": 4,
 "nbformat_minor": 4
}
