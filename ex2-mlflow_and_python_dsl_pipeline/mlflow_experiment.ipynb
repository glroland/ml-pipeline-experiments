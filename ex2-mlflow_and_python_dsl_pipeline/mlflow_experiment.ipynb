{
 "cells": [
  {
   "cell_type": "markdown",
   "metadata": {},
   "source": [
    "# MLFlow-based Experiment"
   ]
  },
  {
   "cell_type": "code",
   "execution_count": 1,
   "metadata": {},
   "outputs": [
    {
     "name": "stdout",
     "output_type": "stream",
     "text": [
      "Requirement already satisfied: mlflow in /opt/anaconda3/envs/kfp/lib/python3.11/site-packages (2.20.1)\n",
      "Requirement already satisfied: boto3 in /opt/anaconda3/envs/kfp/lib/python3.11/site-packages (1.36.9)\n",
      "Requirement already satisfied: mlflow-skinny==2.20.1 in /opt/anaconda3/envs/kfp/lib/python3.11/site-packages (from mlflow) (2.20.1)\n",
      "Requirement already satisfied: Flask<4 in /opt/anaconda3/envs/kfp/lib/python3.11/site-packages (from mlflow) (3.1.0)\n",
      "Requirement already satisfied: Jinja2<4,>=2.11 in /opt/anaconda3/envs/kfp/lib/python3.11/site-packages (from mlflow) (3.1.5)\n",
      "Requirement already satisfied: alembic!=1.10.0,<2 in /opt/anaconda3/envs/kfp/lib/python3.11/site-packages (from mlflow) (1.14.1)\n",
      "Requirement already satisfied: docker<8,>=4.0.0 in /opt/anaconda3/envs/kfp/lib/python3.11/site-packages (from mlflow) (7.1.0)\n",
      "Requirement already satisfied: graphene<4 in /opt/anaconda3/envs/kfp/lib/python3.11/site-packages (from mlflow) (3.4.3)\n",
      "Requirement already satisfied: gunicorn<24 in /opt/anaconda3/envs/kfp/lib/python3.11/site-packages (from mlflow) (23.0.0)\n",
      "Requirement already satisfied: markdown<4,>=3.3 in /opt/anaconda3/envs/kfp/lib/python3.11/site-packages (from mlflow) (3.7)\n",
      "Requirement already satisfied: matplotlib<4 in /opt/anaconda3/envs/kfp/lib/python3.11/site-packages (from mlflow) (3.10.0)\n",
      "Requirement already satisfied: numpy<3 in /opt/anaconda3/envs/kfp/lib/python3.11/site-packages (from mlflow) (2.2.2)\n",
      "Requirement already satisfied: pandas<3 in /opt/anaconda3/envs/kfp/lib/python3.11/site-packages (from mlflow) (2.2.3)\n",
      "Requirement already satisfied: pyarrow<19,>=4.0.0 in /opt/anaconda3/envs/kfp/lib/python3.11/site-packages (from mlflow) (18.1.0)\n",
      "Requirement already satisfied: scikit-learn<2 in /opt/anaconda3/envs/kfp/lib/python3.11/site-packages (from mlflow) (1.6.1)\n",
      "Requirement already satisfied: scipy<2 in /opt/anaconda3/envs/kfp/lib/python3.11/site-packages (from mlflow) (1.15.1)\n",
      "Requirement already satisfied: sqlalchemy<3,>=1.4.0 in /opt/anaconda3/envs/kfp/lib/python3.11/site-packages (from mlflow) (2.0.37)\n",
      "Requirement already satisfied: cachetools<6,>=5.0.0 in /opt/anaconda3/envs/kfp/lib/python3.11/site-packages (from mlflow-skinny==2.20.1->mlflow) (5.5.1)\n",
      "Requirement already satisfied: click<9,>=7.0 in /opt/anaconda3/envs/kfp/lib/python3.11/site-packages (from mlflow-skinny==2.20.1->mlflow) (8.1.8)\n",
      "Requirement already satisfied: cloudpickle<4 in /opt/anaconda3/envs/kfp/lib/python3.11/site-packages (from mlflow-skinny==2.20.1->mlflow) (3.1.1)\n",
      "Requirement already satisfied: databricks-sdk<1,>=0.20.0 in /opt/anaconda3/envs/kfp/lib/python3.11/site-packages (from mlflow-skinny==2.20.1->mlflow) (0.42.0)\n",
      "Requirement already satisfied: gitpython<4,>=3.1.9 in /opt/anaconda3/envs/kfp/lib/python3.11/site-packages (from mlflow-skinny==2.20.1->mlflow) (3.1.44)\n",
      "Requirement already satisfied: importlib_metadata!=4.7.0,<9,>=3.7.0 in /opt/anaconda3/envs/kfp/lib/python3.11/site-packages (from mlflow-skinny==2.20.1->mlflow) (8.5.0)\n",
      "Requirement already satisfied: opentelemetry-api<3,>=1.9.0 in /opt/anaconda3/envs/kfp/lib/python3.11/site-packages (from mlflow-skinny==2.20.1->mlflow) (1.29.0)\n",
      "Requirement already satisfied: opentelemetry-sdk<3,>=1.9.0 in /opt/anaconda3/envs/kfp/lib/python3.11/site-packages (from mlflow-skinny==2.20.1->mlflow) (1.29.0)\n",
      "Requirement already satisfied: packaging<25 in /opt/anaconda3/envs/kfp/lib/python3.11/site-packages (from mlflow-skinny==2.20.1->mlflow) (24.2)\n",
      "Requirement already satisfied: protobuf<6,>=3.12.0 in /opt/anaconda3/envs/kfp/lib/python3.11/site-packages (from mlflow-skinny==2.20.1->mlflow) (4.25.6)\n",
      "Requirement already satisfied: pydantic<3,>=1.0 in /opt/anaconda3/envs/kfp/lib/python3.11/site-packages (from mlflow-skinny==2.20.1->mlflow) (2.10.6)\n",
      "Requirement already satisfied: pyyaml<7,>=5.1 in /opt/anaconda3/envs/kfp/lib/python3.11/site-packages (from mlflow-skinny==2.20.1->mlflow) (6.0.2)\n",
      "Requirement already satisfied: requests<3,>=2.17.3 in /opt/anaconda3/envs/kfp/lib/python3.11/site-packages (from mlflow-skinny==2.20.1->mlflow) (2.32.3)\n",
      "Requirement already satisfied: sqlparse<1,>=0.4.0 in /opt/anaconda3/envs/kfp/lib/python3.11/site-packages (from mlflow-skinny==2.20.1->mlflow) (0.5.3)\n",
      "Requirement already satisfied: typing-extensions<5,>=4.0.0 in /opt/anaconda3/envs/kfp/lib/python3.11/site-packages (from mlflow-skinny==2.20.1->mlflow) (4.12.2)\n",
      "Requirement already satisfied: botocore<1.37.0,>=1.36.9 in /opt/anaconda3/envs/kfp/lib/python3.11/site-packages (from boto3) (1.36.9)\n",
      "Requirement already satisfied: jmespath<2.0.0,>=0.7.1 in /opt/anaconda3/envs/kfp/lib/python3.11/site-packages (from boto3) (1.0.1)\n",
      "Requirement already satisfied: s3transfer<0.12.0,>=0.11.0 in /opt/anaconda3/envs/kfp/lib/python3.11/site-packages (from boto3) (0.11.2)\n",
      "Requirement already satisfied: Mako in /opt/anaconda3/envs/kfp/lib/python3.11/site-packages (from alembic!=1.10.0,<2->mlflow) (1.3.8)\n",
      "Requirement already satisfied: python-dateutil<3.0.0,>=2.1 in /opt/anaconda3/envs/kfp/lib/python3.11/site-packages (from botocore<1.37.0,>=1.36.9->boto3) (2.9.0.post0)\n",
      "Requirement already satisfied: urllib3!=2.2.0,<3,>=1.25.4 in /opt/anaconda3/envs/kfp/lib/python3.11/site-packages (from botocore<1.37.0,>=1.36.9->boto3) (1.26.20)\n",
      "Requirement already satisfied: Werkzeug>=3.1 in /opt/anaconda3/envs/kfp/lib/python3.11/site-packages (from Flask<4->mlflow) (3.1.3)\n",
      "Requirement already satisfied: itsdangerous>=2.2 in /opt/anaconda3/envs/kfp/lib/python3.11/site-packages (from Flask<4->mlflow) (2.2.0)\n",
      "Requirement already satisfied: blinker>=1.9 in /opt/anaconda3/envs/kfp/lib/python3.11/site-packages (from Flask<4->mlflow) (1.9.0)\n",
      "Requirement already satisfied: graphql-core<3.3,>=3.1 in /opt/anaconda3/envs/kfp/lib/python3.11/site-packages (from graphene<4->mlflow) (3.2.6)\n",
      "Requirement already satisfied: graphql-relay<3.3,>=3.1 in /opt/anaconda3/envs/kfp/lib/python3.11/site-packages (from graphene<4->mlflow) (3.2.0)\n",
      "Requirement already satisfied: MarkupSafe>=2.0 in /opt/anaconda3/envs/kfp/lib/python3.11/site-packages (from Jinja2<4,>=2.11->mlflow) (3.0.2)\n",
      "Requirement already satisfied: contourpy>=1.0.1 in /opt/anaconda3/envs/kfp/lib/python3.11/site-packages (from matplotlib<4->mlflow) (1.3.1)\n",
      "Requirement already satisfied: cycler>=0.10 in /opt/anaconda3/envs/kfp/lib/python3.11/site-packages (from matplotlib<4->mlflow) (0.12.1)\n",
      "Requirement already satisfied: fonttools>=4.22.0 in /opt/anaconda3/envs/kfp/lib/python3.11/site-packages (from matplotlib<4->mlflow) (4.55.8)\n",
      "Requirement already satisfied: kiwisolver>=1.3.1 in /opt/anaconda3/envs/kfp/lib/python3.11/site-packages (from matplotlib<4->mlflow) (1.4.8)\n",
      "Requirement already satisfied: pillow>=8 in /opt/anaconda3/envs/kfp/lib/python3.11/site-packages (from matplotlib<4->mlflow) (11.1.0)\n",
      "Requirement already satisfied: pyparsing>=2.3.1 in /opt/anaconda3/envs/kfp/lib/python3.11/site-packages (from matplotlib<4->mlflow) (3.2.1)\n",
      "Requirement already satisfied: pytz>=2020.1 in /opt/anaconda3/envs/kfp/lib/python3.11/site-packages (from pandas<3->mlflow) (2025.1)\n",
      "Requirement already satisfied: tzdata>=2022.7 in /opt/anaconda3/envs/kfp/lib/python3.11/site-packages (from pandas<3->mlflow) (2025.1)\n",
      "Requirement already satisfied: joblib>=1.2.0 in /opt/anaconda3/envs/kfp/lib/python3.11/site-packages (from scikit-learn<2->mlflow) (1.4.2)\n",
      "Requirement already satisfied: threadpoolctl>=3.1.0 in /opt/anaconda3/envs/kfp/lib/python3.11/site-packages (from scikit-learn<2->mlflow) (3.5.0)\n",
      "Requirement already satisfied: google-auth~=2.0 in /opt/anaconda3/envs/kfp/lib/python3.11/site-packages (from databricks-sdk<1,>=0.20.0->mlflow-skinny==2.20.1->mlflow) (2.38.0)\n",
      "Requirement already satisfied: gitdb<5,>=4.0.1 in /opt/anaconda3/envs/kfp/lib/python3.11/site-packages (from gitpython<4,>=3.1.9->mlflow-skinny==2.20.1->mlflow) (4.0.12)\n",
      "Requirement already satisfied: zipp>=3.20 in /opt/anaconda3/envs/kfp/lib/python3.11/site-packages (from importlib_metadata!=4.7.0,<9,>=3.7.0->mlflow-skinny==2.20.1->mlflow) (3.21.0)\n",
      "Requirement already satisfied: deprecated>=1.2.6 in /opt/anaconda3/envs/kfp/lib/python3.11/site-packages (from opentelemetry-api<3,>=1.9.0->mlflow-skinny==2.20.1->mlflow) (1.2.18)\n",
      "Requirement already satisfied: opentelemetry-semantic-conventions==0.50b0 in /opt/anaconda3/envs/kfp/lib/python3.11/site-packages (from opentelemetry-sdk<3,>=1.9.0->mlflow-skinny==2.20.1->mlflow) (0.50b0)\n",
      "Requirement already satisfied: annotated-types>=0.6.0 in /opt/anaconda3/envs/kfp/lib/python3.11/site-packages (from pydantic<3,>=1.0->mlflow-skinny==2.20.1->mlflow) (0.7.0)\n",
      "Requirement already satisfied: pydantic-core==2.27.2 in /opt/anaconda3/envs/kfp/lib/python3.11/site-packages (from pydantic<3,>=1.0->mlflow-skinny==2.20.1->mlflow) (2.27.2)\n",
      "Requirement already satisfied: six>=1.5 in /opt/anaconda3/envs/kfp/lib/python3.11/site-packages (from python-dateutil<3.0.0,>=2.1->botocore<1.37.0,>=1.36.9->boto3) (1.17.0)\n",
      "Requirement already satisfied: charset-normalizer<4,>=2 in /opt/anaconda3/envs/kfp/lib/python3.11/site-packages (from requests<3,>=2.17.3->mlflow-skinny==2.20.1->mlflow) (3.4.1)\n",
      "Requirement already satisfied: idna<4,>=2.5 in /opt/anaconda3/envs/kfp/lib/python3.11/site-packages (from requests<3,>=2.17.3->mlflow-skinny==2.20.1->mlflow) (3.10)\n",
      "Requirement already satisfied: certifi>=2017.4.17 in /opt/anaconda3/envs/kfp/lib/python3.11/site-packages (from requests<3,>=2.17.3->mlflow-skinny==2.20.1->mlflow) (2024.12.14)\n",
      "Requirement already satisfied: wrapt<2,>=1.10 in /opt/anaconda3/envs/kfp/lib/python3.11/site-packages (from deprecated>=1.2.6->opentelemetry-api<3,>=1.9.0->mlflow-skinny==2.20.1->mlflow) (1.17.2)\n",
      "Requirement already satisfied: smmap<6,>=3.0.1 in /opt/anaconda3/envs/kfp/lib/python3.11/site-packages (from gitdb<5,>=4.0.1->gitpython<4,>=3.1.9->mlflow-skinny==2.20.1->mlflow) (5.0.2)\n",
      "Requirement already satisfied: pyasn1-modules>=0.2.1 in /opt/anaconda3/envs/kfp/lib/python3.11/site-packages (from google-auth~=2.0->databricks-sdk<1,>=0.20.0->mlflow-skinny==2.20.1->mlflow) (0.4.1)\n",
      "Requirement already satisfied: rsa<5,>=3.1.4 in /opt/anaconda3/envs/kfp/lib/python3.11/site-packages (from google-auth~=2.0->databricks-sdk<1,>=0.20.0->mlflow-skinny==2.20.1->mlflow) (4.9)\n",
      "Requirement already satisfied: pyasn1<0.7.0,>=0.4.6 in /opt/anaconda3/envs/kfp/lib/python3.11/site-packages (from pyasn1-modules>=0.2.1->google-auth~=2.0->databricks-sdk<1,>=0.20.0->mlflow-skinny==2.20.1->mlflow) (0.6.1)\n"
     ]
    }
   ],
   "source": [
    "!pip install mlflow boto3"
   ]
  },
  {
   "cell_type": "code",
   "execution_count": 2,
   "metadata": {
    "tags": []
   },
   "outputs": [],
   "source": [
    "import os\n",
    "import requests\n",
    "import mlflow"
   ]
  },
  {
   "cell_type": "code",
   "execution_count": null,
   "metadata": {
    "tags": [
     "parameters"
    ]
   },
   "outputs": [],
   "source": [
    "# configuration parameters (applied through papermill)\n",
    "aws_access_key_id = 'access_key_goes_here'\n",
    "aws_secret_key = 'secret_key_goes_here'\n",
    "aws_default_region = 'lab'\n",
    "mlflow_s3_endpoint_url = 'https://eclipse.home.glroland.com:9000'\n",
    "mlflow_s3_ignore_tls = 'true'"
   ]
  },
  {
   "cell_type": "code",
   "execution_count": null,
   "metadata": {},
   "outputs": [],
   "source": [
    "os.environ['AWS_ACCESS_KEY_ID'] = aws_access_key_id\n",
    "os.environ['AWS_SECRET_ACCESS_KEY'] = aws_secret_key\n",
    "os.environ['AWS_DEFAULT_REGION'] = aws_default_region\n",
    "os.environ['MLFLOW_S3_ENDPOINT_URL'] = mlflow_s3_endpoint_url\n",
    "os.environ['MLFLOW_S3_IGNORE_TLS'] = mlflow_s3_ignore_tls\n",
    "\n",
    "print (os.environ)"
   ]
  },
  {
   "cell_type": "code",
   "execution_count": 4,
   "metadata": {},
   "outputs": [],
   "source": [
    "mlflow.set_tracking_uri(uri=\"http://mlflow.home.glroland.com:8080\")"
   ]
  },
  {
   "cell_type": "code",
   "execution_count": 5,
   "metadata": {},
   "outputs": [
    {
     "name": "stdout",
     "output_type": "stream",
     "text": [
      "Experiment already exists: baseball_mlfow_v1\n"
     ]
    },
    {
     "data": {
      "text/plain": [
       "<Experiment: artifact_location='s3://mlflow', creation_time=1738683213822, experiment_id='318457801545587060', last_update_time=1738683213822, lifecycle_stage='active', name='baseball_mlfow_v1', tags={}>"
      ]
     },
     "execution_count": 5,
     "metadata": {},
     "output_type": "execute_result"
    }
   ],
   "source": [
    "experiment_name = \"baseball_mlfow_v1\"\n",
    "if mlflow.get_experiment_by_name(experiment_name) is None:\n",
    "    print (\"Creating new experiment: \" + experiment_name)\n",
    "    mlflow.create_experiment(experiment_name, artifact_location='s3://mlflow')\n",
    "else:\n",
    "    print (\"Experiment already exists: \" + experiment_name)\n",
    "mlflow.set_experiment(experiment_name)"
   ]
  },
  {
   "cell_type": "code",
   "execution_count": 6,
   "metadata": {},
   "outputs": [
    {
     "data": {
      "text/plain": [
       "<ActiveRun: >"
      ]
     },
     "execution_count": 6,
     "metadata": {},
     "output_type": "execute_result"
    }
   ],
   "source": [
    "mlflow.start_run()"
   ]
  },
  {
   "cell_type": "code",
   "execution_count": 7,
   "metadata": {
    "tags": []
   },
   "outputs": [
    {
     "name": "stderr",
     "output_type": "stream",
     "text": [
      "/opt/anaconda3/envs/kfp/lib/python3.11/site-packages/urllib3/connectionpool.py:1064: InsecureRequestWarning: Unverified HTTPS request is being made to host 'eclipse.home.glroland.com'. Adding certificate verification is strongly advised. See: https://urllib3.readthedocs.io/en/1.26.x/advanced-usage.html#ssl-warnings\n",
      "  warnings.warn(\n"
     ]
    }
   ],
   "source": [
    "# Log a parameter (key-value pair)\n",
    "mlflow.log_param(\"hello\", \"world\")\n",
    "\n",
    "# Log a metric; metrics can be updated throughout the run\n",
    "mlflow.log_metric(\"foo\", 1)\n",
    "mlflow.log_metric(\"foo\", 2)\n",
    "mlflow.log_metric(\"foo\", 3)\n",
    "\n",
    "# Log an artifact (output file)\n",
    "output_filename = \"/tmp/output.txt\"\n",
    "with open(output_filename, \"w\") as f:\n",
    "    f.write(\"Hello world!\")\n",
    "mlflow.log_artifact(output_filename)\n",
    "\n"
   ]
  },
  {
   "cell_type": "code",
   "execution_count": 8,
   "metadata": {},
   "outputs": [
    {
     "name": "stderr",
     "output_type": "stream",
     "text": [
      "/opt/anaconda3/envs/kfp/lib/python3.11/site-packages/urllib3/connectionpool.py:1064: InsecureRequestWarning: Unverified HTTPS request is being made to host 'eclipse.home.glroland.com'. Adding certificate verification is strongly advised. See: https://urllib3.readthedocs.io/en/1.26.x/advanced-usage.html#ssl-warnings\n",
      "  warnings.warn(\n"
     ]
    }
   ],
   "source": [
    "model_name = \"model.onnx\"\n",
    "url = \"https://eclipse.home.glroland.com:9000/baseball/play/1/\" + model_name\n",
    "temp_file = \"/tmp/\" + model_name\n",
    "\n",
    "# stream content\n",
    "response = requests.get(url, stream=True)\n",
    "response.raw.decode_content = True\n",
    "\n",
    "# save file\n",
    "with open(temp_file, 'wb') as f:\n",
    "    for chunk in response.iter_content(chunk_size=1024): \n",
    "        f.write(chunk)\n",
    "\n",
    "# log artifact\n",
    "mlflow.log_artifact(temp_file, artifact_path=\"1\")"
   ]
  },
  {
   "cell_type": "code",
   "execution_count": 9,
   "metadata": {},
   "outputs": [
    {
     "name": "stdout",
     "output_type": "stream",
     "text": [
      "Artifact URI (pre-processing): s3://mlflow/3e5135617a374ee9b3a06313ca08436b/artifacts\n",
      "Artifact URI (post-processing): https://eclipse.home.glroland.com:9000/mlflow/3e5135617a374ee9b3a06313ca08436b/artifacts/1/model.onnx\n"
     ]
    }
   ],
   "source": [
    "run = mlflow.active_run()\n",
    "s3_url = run.info.artifact_uri\n",
    "\n",
    "print(f\"Artifact URI (pre-processing): {s3_url}\")\n",
    "\n",
    "#\"https://eclipse.home.glroland.com:9000/baseball/play/1/model.onnx\"\n",
    "\n",
    "s3_url = s3_url.replace(\"s3:/\", os.environ['MLFLOW_S3_ENDPOINT_URL'])\n",
    "s3_url += \"/1/\" + model_name\n",
    "\n",
    "print(f\"Artifact URI (post-processing): {s3_url}\")\n"
   ]
  },
  {
   "cell_type": "code",
   "execution_count": 10,
   "metadata": {},
   "outputs": [
    {
     "name": "stdout",
     "output_type": "stream",
     "text": [
      "🏃 View run stylish-bug-129 at: http://mlflow.home.glroland.com:8080/#/experiments/318457801545587060/runs/3e5135617a374ee9b3a06313ca08436b\n",
      "🧪 View experiment at: http://mlflow.home.glroland.com:8080/#/experiments/318457801545587060\n"
     ]
    }
   ],
   "source": [
    "mlflow.end_run()"
   ]
  },
  {
   "cell_type": "code",
   "execution_count": null,
   "metadata": {},
   "outputs": [],
   "source": []
  }
 ],
 "metadata": {
  "kernelspec": {
   "display_name": "kfp",
   "language": "python",
   "name": "python3"
  },
  "language_info": {
   "codemirror_mode": {
    "name": "ipython",
    "version": 3
   },
   "file_extension": ".py",
   "mimetype": "text/x-python",
   "name": "python",
   "nbconvert_exporter": "python",
   "pygments_lexer": "ipython3",
   "version": "3.11.11"
  },
  "orig_nbformat": 2
 },
 "nbformat": 4,
 "nbformat_minor": 2
}
