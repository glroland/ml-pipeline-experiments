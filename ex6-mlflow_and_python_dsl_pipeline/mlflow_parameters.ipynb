{
 "cells": [
  {
   "cell_type": "markdown",
   "metadata": {},
   "source": [
    "# MLFlow-based Experiment"
   ]
  },
  {
   "cell_type": "code",
   "execution_count": null,
   "metadata": {},
   "outputs": [],
   "source": [
    "!pip install mlflow boto3"
   ]
  },
  {
   "cell_type": "code",
   "execution_count": null,
   "metadata": {
    "tags": []
   },
   "outputs": [],
   "source": [
    "import os\n",
    "import requests\n",
    "import mlflow"
   ]
  },
  {
   "cell_type": "code",
   "execution_count": null,
   "metadata": {
    "tags": [
     "parameters"
    ]
   },
   "outputs": [],
   "source": [
    "# configuration parameters (applied through papermill)\n",
    "aws_access_key_id = 'access_key_goes_here'\n",
    "aws_secret_key = 'secret_key_goes_here'\n",
    "aws_default_region = 'lab'\n",
    "mlflow_s3_endpoint_url = 'https://eclipse.home.glroland.com:9000'\n",
    "mlflow_s3_ignore_tls = 'true'"
   ]
  },
  {
   "cell_type": "code",
   "execution_count": null,
   "metadata": {},
   "outputs": [],
   "source": [
    "os.environ['AWS_ACCESS_KEY_ID'] = aws_access_key_id\n",
    "os.environ['AWS_SECRET_ACCESS_KEY'] = aws_secret_key\n",
    "os.environ['AWS_DEFAULT_REGION'] = aws_default_region\n",
    "os.environ['MLFLOW_S3_ENDPOINT_URL'] = mlflow_s3_endpoint_url\n",
    "os.environ['MLFLOW_S3_IGNORE_TLS'] = mlflow_s3_ignore_tls\n",
    "\n",
    "print (os.environ)"
   ]
  },
  {
   "cell_type": "code",
   "execution_count": null,
   "metadata": {},
   "outputs": [],
   "source": [
    "mlflow.set_tracking_uri(uri=\"http://mlflow.home.glroland.com:8080\")"
   ]
  },
  {
   "cell_type": "code",
   "execution_count": null,
   "metadata": {},
   "outputs": [],
   "source": [
    "experiment_name = \"ex2_experiment\"\n",
    "if mlflow.get_experiment_by_name(experiment_name) is None:\n",
    "    print (\"Creating new experiment: \" + experiment_name)\n",
    "    mlflow.create_experiment(experiment_name, artifact_location='s3://mlflow')\n",
    "else:\n",
    "    print (\"Experiment already exists: \" + experiment_name)\n",
    "mlflow.set_experiment(experiment_name)"
   ]
  },
  {
   "cell_type": "code",
   "execution_count": null,
   "metadata": {},
   "outputs": [],
   "source": [
    "mlflow.start_run()"
   ]
  },
  {
   "cell_type": "code",
   "execution_count": null,
   "metadata": {
    "tags": []
   },
   "outputs": [],
   "source": [
    "# Log a parameter (key-value pair)\n",
    "mlflow.log_param(\"hello\", \"world\")\n",
    "\n",
    "# Log a metric; metrics can be updated throughout the run\n",
    "mlflow.log_metric(\"foo\", 1)\n",
    "mlflow.log_metric(\"foo\", 2)\n",
    "mlflow.log_metric(\"foo\", 3)\n",
    "\n",
    "# Log an artifact (output file)\n",
    "output_filename = \"/tmp/output.txt\"\n",
    "with open(output_filename, \"w\") as f:\n",
    "    f.write(\"Hello world!\")\n",
    "mlflow.log_artifact(output_filename)"
   ]
  },
  {
   "cell_type": "code",
   "execution_count": null,
   "metadata": {},
   "outputs": [],
   "source": [
    "mlflow.end_run()"
   ]
  },
  {
   "cell_type": "code",
   "execution_count": null,
   "metadata": {},
   "outputs": [],
   "source": []
  }
 ],
 "metadata": {
  "kernelspec": {
   "display_name": "kfp",
   "language": "python",
   "name": "python3"
  },
  "language_info": {
   "codemirror_mode": {
    "name": "ipython",
    "version": 3
   },
   "file_extension": ".py",
   "mimetype": "text/x-python",
   "name": "python",
   "nbconvert_exporter": "python",
   "pygments_lexer": "ipython3",
   "version": "3.11.11"
  },
  "orig_nbformat": 2
 },
 "nbformat": 4,
 "nbformat_minor": 2
}
