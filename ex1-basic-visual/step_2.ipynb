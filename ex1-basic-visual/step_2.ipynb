{
 "cells": [
  {
   "cell_type": "code",
   "execution_count": 1,
   "id": "0eb5b52e-97ba-4015-8aee-628ca6fbf99b",
   "metadata": {},
   "outputs": [
    {
     "name": "stdout",
     "output_type": "stream",
     "text": [
      "Step #2\n"
     ]
    }
   ],
   "source": [
    "print(\"Step #2\")"
   ]
  },
  {
   "cell_type": "code",
   "execution_count": 2,
   "id": "7ed8d691-7315-46c0-88a1-63cfe170a18b",
   "metadata": {},
   "outputs": [
    {
     "name": "stdout",
     "output_type": "stream",
     "text": [
      "APP_ROOT=/opt/app-root\n",
      "BASH=/usr/bin/sh\n",
      "BASHOPTS=checkwinsize:cmdhist:complete_fullquote:extquote:force_fignore:globasciiranges:hostcomplete:interactive_comments:progcomp:promptvars:sourcepath\n",
      "BASH_ALIASES=()\n",
      "BASH_ARGC=()\n",
      "BASH_ARGV=()\n",
      "BASH_CMDS=()\n",
      "BASH_EXECUTION_STRING=set\n",
      "BASH_LINENO=()\n",
      "BASH_SOURCE=()\n",
      "BASH_VERSINFO=([0]=\"5\" [1]=\"1\" [2]=\"8\" [3]=\"1\" [4]=\"release\" [5]=\"x86_64-redhat-linux-gnu\")\n",
      "BASH_VERSION='5.1.8(1)-release'\n",
      "CLICOLOR=1\n",
      "CLICOLOR_FORCE=1\n",
      "CNB_GROUP_ID=0\n",
      "CNB_STACK_ID=com.redhat.stacks.ubi9-python-311\n",
      "CNB_USER_ID=1001\n",
      "DESCRIPTION='Python 3.11 available as container is a base platform for building and running various Python 3.11 applications and frameworks. Python is an easy to learn, powerful programming language. It has efficient high-level data structures and a simple but effective approach to object-oriented programming. Python'\\''s elegant syntax and dynamic typing, together with its interpreted nature, make it an ideal language for scripting and rapid application development in many areas on most platforms.'\n",
      "DIRSTACK=()\n",
      "EUID=1001010000\n",
      "FORCE_COLOR=1\n",
      "GIT_PAGER=cat\n",
      "GIT_PYTHON_REFRESH=quiet\n",
      "GIT_SSL_CAINFO=/etc/pki/tls/custom-certs/ca-bundle.crt\n",
      "GROUPS=()\n",
      "HOME=/opt/app-root/src\n",
      "HOSTNAME=my-workbench-0\n",
      "HOSTTYPE=x86_64\n",
      "IFS=' \t\n",
      "'\n",
      "JPY_PARENT_PID=10\n",
      "JPY_SESSION_NAME=/opt/app-root/src/ml-pipeline-experiments/ex1-simple/step_2.ipynb\n",
      "JUPYTER_IMAGE=s2i-generic-data-science-notebook:2025.1\n",
      "KF_PIPELINES_SA_TOKEN_ENV=/var/run/secrets/kubernetes.io/serviceaccount/token\n",
      "KF_PIPELINES_SA_TOKEN_PATH=/var/run/secrets/kubernetes.io/serviceaccount/token\n",
      "KUBERNETES_PORT=tcp://172.30.0.1:443\n",
      "KUBERNETES_PORT_443_TCP=tcp://172.30.0.1:443\n",
      "KUBERNETES_PORT_443_TCP_ADDR=172.30.0.1\n",
      "KUBERNETES_PORT_443_TCP_PORT=443\n",
      "KUBERNETES_PORT_443_TCP_PROTO=tcp\n",
      "KUBERNETES_SERVICE_HOST=172.30.0.1\n",
      "KUBERNETES_SERVICE_PORT=443\n",
      "KUBERNETES_SERVICE_PORT_HTTPS=443\n",
      "LANG=en_US.UTF-8\n",
      "LC_ALL=en_US.UTF-8\n",
      "MACHTYPE=x86_64-redhat-linux-gnu\n",
      "MPLBACKEND=module://matplotlib_inline.backend_inline\n",
      "NB_PREFIX=/notebook/pipeline-sandbox/my-workbench\n",
      "NODEJS_VER=20\n",
      "NOTEBOOK_ARGS='--ServerApp.port=8888\n",
      "                  --ServerApp.token='\\'''\\''\n",
      "                  --ServerApp.password='\\'''\\''\n",
      "                  --ServerApp.base_url=/notebook/pipeline-sandbox/my-workbench\n",
      "                  --ServerApp.quit_button=False\n",
      "                  --ServerApp.tornado_settings={\"user\":\"admin\",\"hub_host\":\"https://rhods-dashboard-redhat-ods-applications.apps.ocp.home.glroland.com\",\"hub_prefix\":\"/projects/pipeline-sandbox\"}'\n",
      "NSS_SDB_USE_CACHE=no\n",
      "OPTERR=1\n",
      "OPTIND=1\n",
      "OSTYPE=linux-gnu\n",
      "PAGER=cat\n",
      "PATH=/opt/app-root/bin:/usr/local/texlive/bin/x86_64-linux:/usr/local/pandoc/bin:/opt/app-root/src/.local/bin/:/opt/app-root/src/bin:/opt/app-root/bin:/usr/local/sbin:/usr/local/bin:/usr/sbin:/usr/bin:/sbin:/bin:/opt/mssql-tools18/bin\n",
      "PIPELINES_SSL_SA_CERTS=/etc/pki/tls/custom-certs/ca-bundle.crt\n",
      "PIP_CERT=/etc/pki/tls/custom-certs/ca-bundle.crt\n",
      "PIP_NO_CACHE_DIR=off\n",
      "PLATFORM=el9\n",
      "POSIXLY_CORRECT=y\n",
      "PPID=730\n",
      "PS4='+ '\n",
      "PWD=/opt/app-root/src/ml-pipeline-experiments/ex1-simple\n",
      "PYDEVD_USE_FRAME_EVAL=NO\n",
      "PYTHONIOENCODING=UTF-8\n",
      "PYTHONUNBUFFERED=1\n",
      "PYTHON_VERSION=3.11\n",
      "REQUESTS_CA_BUNDLE=/etc/pki/tls/custom-certs/ca-bundle.crt\n",
      "SHELL=/sbin/nologin\n",
      "SHELLOPTS=braceexpand:hashall:interactive-comments:posix\n",
      "SHLVL=1\n",
      "SSL_CERT_FILE=/etc/pki/tls/custom-certs/ca-bundle.crt\n",
      "STI_SCRIPTS_PATH=/usr/libexec/s2i\n",
      "STI_SCRIPTS_URL=image:///usr/libexec/s2i\n",
      "SUMMARY='Platform for building and running Python 3.11 applications'\n",
      "TERM=xterm-color\n",
      "UID=1001010000\n",
      "VIRTUAL_ENV=/opt/app-root\n",
      "VIRTUAL_ENV_PROMPT='(app-root) '\n",
      "_=/opt/app-root/bin/jupyter\n",
      "container=oci\n"
     ]
    }
   ],
   "source": [
    "!set"
   ]
  },
  {
   "cell_type": "code",
   "execution_count": null,
   "id": "9d2fa019-ed9a-467d-ae57-4902a0f73163",
   "metadata": {},
   "outputs": [],
   "source": []
  }
 ],
 "metadata": {
  "kernelspec": {
   "display_name": "Python 3.11",
   "language": "python",
   "name": "python3"
  },
  "language_info": {
   "codemirror_mode": {
    "name": "ipython",
    "version": 3
   },
   "file_extension": ".py",
   "mimetype": "text/x-python",
   "name": "python",
   "nbconvert_exporter": "python",
   "pygments_lexer": "ipython3",
   "version": "3.11.11"
  }
 },
 "nbformat": 4,
 "nbformat_minor": 5
}
